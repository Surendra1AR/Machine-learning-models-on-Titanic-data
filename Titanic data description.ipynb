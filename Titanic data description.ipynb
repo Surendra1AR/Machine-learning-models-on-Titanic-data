{
 "cells": [
  {
   "cell_type": "markdown",
   "metadata": {},
   "source": [
    "## **Data Description:**\n",
    "\n",
    "**Predict survival on the Titanic data and get familiar with Machine Learning with tree based models** \n",
    "\n",
    "1. survival = survival:\n",
    "   * Key: 0= No and 1= Yes\n",
    "2. pclass = Ticket Class:\n",
    "    * 1 = 1st, 2 = 2nd, 3 = 3rd\n",
    "3. sex = sex\n",
    "4. Age = Age in years\n",
    "5. sibsp = # of siblings / spouses aboard the Titanic\n",
    "6. parch = # of parents / children aboard the Titanic\n",
    "7. ticket = Ticket number\n",
    "8. fare = Passenger fare\n",
    "9. cabin = Cabin number\n",
    "10. embarked = Port of Embarkation:\n",
    "    * C = Cherbourg, Q = Queenstown, S = Southampton\n",
    "\n",
    "    \n",
    "   **Variables Notes:**\n",
    "- pclass: A proxy for socio-economic status (SES):\n",
    "      * 1st = Upper\n",
    "      * 2nd = Middle\n",
    "      * 3rd = Lower\n",
    "\n",
    "\n",
    "- age: Age is fractional if less than 1. If the age is estimated, is it in the form of xx.5\n",
    "\n",
    "\n",
    "- sibsp: The dataset defines family relations in this way...:\n",
    "      * Sibling = brother, sister, stepbrother, stepsister\n",
    "      * Spouse = husband, wife (mistresses and fiancés were ignored)\n",
    "        \n",
    "\n",
    "- parch: The dataset defines family relations in this way...:\n",
    "      * Parent = mother, father\n",
    "      * Child = daughter, son, stepdaughter, stepson\n",
    "      * Some children travelled only with a nanny, therefore parch=0 for them.\n"
   ]
  }
 ],
 "metadata": {
  "kernelspec": {
   "display_name": "Python 3",
   "language": "python",
   "name": "python3"
  },
  "language_info": {
   "codemirror_mode": {
    "name": "ipython",
    "version": 3
   },
   "file_extension": ".py",
   "mimetype": "text/x-python",
   "name": "python",
   "nbconvert_exporter": "python",
   "pygments_lexer": "ipython3",
   "version": "3.8.5"
  }
 },
 "nbformat": 4,
 "nbformat_minor": 4
}
